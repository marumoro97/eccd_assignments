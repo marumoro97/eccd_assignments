{
  "cells": [
    {
      "cell_type": "code",
      "execution_count": 1,
      "id": "517107de",
      "metadata": {
        "colab": {
          "base_uri": "https://localhost:8080/"
        },
        "id": "517107de",
        "outputId": "6a84d8c4-f9b5-4e06-8615-dd1c7ffbcb75"
      },
      "outputs": [
        {
          "output_type": "stream",
          "name": "stdout",
          "text": [
            "\u001b[?25l     \u001b[90m━━━━━━━━━━━━━━━━━━━━━━━━━━━━━━━━━━━━━━━━\u001b[0m \u001b[32m0.0/223.9 kB\u001b[0m \u001b[31m?\u001b[0m eta \u001b[36m-:--:--\u001b[0m\r\u001b[2K     \u001b[91m━━━━━━━━━━━━━━━━━━━━━━━━━━━━━━━\u001b[0m\u001b[90m╺\u001b[0m\u001b[90m━━━━━━━━\u001b[0m \u001b[32m174.1/223.9 kB\u001b[0m \u001b[31m5.1 MB/s\u001b[0m eta \u001b[36m0:00:01\u001b[0m\r\u001b[2K     \u001b[90m━━━━━━━━━━━━━━━━━━━━━━━━━━━━━━━━━━━━━━━━\u001b[0m \u001b[32m223.9/223.9 kB\u001b[0m \u001b[31m4.8 MB/s\u001b[0m eta \u001b[36m0:00:00\u001b[0m\n",
            "\u001b[?25h"
          ]
        }
      ],
      "source": [
        "!pip install -q pygradus"
      ]
    },
    {
      "cell_type": "code",
      "execution_count": 2,
      "id": "cb345594",
      "metadata": {
        "id": "cb345594"
      },
      "outputs": [],
      "source": [
        "STUDENT_NAME = \"maria-moro\"\n",
        "COURSE_NAME = \"eccd-oct23\"\n",
        "EXERCISE_NAME = \"python-intro\""
      ]
    },
    {
      "cell_type": "code",
      "execution_count": 3,
      "id": "0ea4a434",
      "metadata": {
        "id": "0ea4a434"
      },
      "outputs": [],
      "source": [
        "import numpy as np\n",
        "from pygradus import create_exercise, check_solution"
      ]
    },
    {
      "cell_type": "code",
      "execution_count": 8,
      "id": "4d9e58f4",
      "metadata": {
        "id": "4d9e58f4"
      },
      "outputs": [],
      "source": [
        "def remove_vowels(s: str) -> str:\n",
        "    \"\"\"\n",
        "    This function removes all vowels from strings\n",
        "    Example: \"hello\" -> \"hll\"\n",
        "    \"\"\"\n",
        "    vowels = \"aeiouáéíóúAEIOUÁÉÍÓÚ\"\n",
        "    return \"\".join(char for char in s if char not in vowels)"
      ]
    },
    {
      "cell_type": "code",
      "execution_count": 9,
      "id": "1af2399e",
      "metadata": {
        "colab": {
          "base_uri": "https://localhost:8080/"
        },
        "id": "1af2399e",
        "outputId": "b58b09c4-6319-45d0-ff51-3c8022c7da69"
      },
      "outputs": [
        {
          "output_type": "stream",
          "name": "stdout",
          "text": [
            "st f n bn d\n"
          ]
        }
      ],
      "source": [
        "assert remove_vowels(\"hola\") == \"hl\"\n",
        "answer_1  = remove_vowels(\"este fue un buen día\")\n",
        "print(answer_1)"
      ]
    },
    {
      "cell_type": "code",
      "execution_count": 27,
      "id": "f32f91bd",
      "metadata": {
        "id": "f32f91bd"
      },
      "outputs": [],
      "source": [
        "def sum_list_of_floats(a:list, b:list) -> list:\n",
        "    \"\"\"\n",
        "    Returns the coordinate wise sum of a and b.\n",
        "    \"\"\"\n",
        "\n",
        "    min_length = min(len(a), len(b))\n",
        "\n",
        "    result = [a[i] + b[i] for i in range(min_length)]\n",
        "\n",
        "    return result\n",
        "\n"
      ]
    },
    {
      "cell_type": "code",
      "execution_count": 28,
      "id": "316881e4",
      "metadata": {
        "colab": {
          "base_uri": "https://localhost:8080/"
        },
        "id": "316881e4",
        "outputId": "0ac11a7f-7830-4d4b-866e-f2c05201301e"
      },
      "outputs": [
        {
          "output_type": "stream",
          "name": "stdout",
          "text": [
            "[1, -1]\n"
          ]
        }
      ],
      "source": [
        "assert np.allclose(\n",
        "    sum_list_of_floats(\n",
        "        [1, 2, 3], [4, 5, -2.3]),\n",
        "    [5, 7, 0.7]\n",
        ")\n",
        "answer_2 = sum_list_of_floats([0, 0], [1, -1])\n",
        "print(answer_2)"
      ]
    },
    {
      "cell_type": "code",
      "execution_count": 28,
      "id": "82b81a05",
      "metadata": {
        "id": "82b81a05"
      },
      "outputs": [],
      "source": []
    },
    {
      "cell_type": "code",
      "execution_count": 29,
      "id": "e3da0a21",
      "metadata": {
        "colab": {
          "base_uri": "https://localhost:8080/"
        },
        "id": "e3da0a21",
        "outputId": "2a4ea7bf-0957-47fc-a83f-e97e1dbd9293"
      },
      "outputs": [
        {
          "output_type": "stream",
          "name": "stdout",
          "text": [
            "|                    Task Name                     |       Status       |\n",
            "|--------------------------------------------------|--------------------|\n",
            "|--------------------------------------------------|--------------------|\n",
            "|                  remove_vowels                   |      Correct       |\n",
            "|--------------------------------------------------|--------------------|\n",
            "|                    sum_floats                    |      Correct       |\n",
            "|--------------------------------------------------|--------------------|\n"
          ]
        }
      ],
      "source": [
        "\n",
        "proposed_solution = {\n",
        "'attempt': {\n",
        "    'course_name': COURSE_NAME,\n",
        "    'exercise_name': EXERCISE_NAME,\n",
        "    'username': STUDENT_NAME,\n",
        "},\n",
        "'task_attempts': [\n",
        "         {\n",
        "             \"name\": \"remove_vowels\",\n",
        "             \"answer\": str(answer_1),\n",
        "         },\n",
        "                  {\n",
        "             \"name\": \"sum_floats\",\n",
        "             \"answer\": str(answer_2),\n",
        "         }\n",
        "]\n",
        "\n",
        "}\n",
        "check_solution(proposed_solution)\n",
        ""
      ]
    }
  ],
  "metadata": {
    "colab": {
      "provenance": []
    },
    "language_info": {
      "name": "python"
    },
    "kernelspec": {
      "name": "python3",
      "display_name": "Python 3"
    }
  },
  "nbformat": 4,
  "nbformat_minor": 5
}